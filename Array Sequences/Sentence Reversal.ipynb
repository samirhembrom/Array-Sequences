{
 "cells": [
  {
   "cell_type": "code",
   "execution_count": 4,
   "metadata": {},
   "outputs": [],
   "source": [
    "def short_sol1(s):\n",
    "    return \" \".join(reversed(s.split()))\n",
    "def short_sol2(s):\n",
    "    return \" \".join(s.split()[::-1])"
   ]
  },
  {
   "cell_type": "code",
   "execution_count": 7,
   "metadata": {},
   "outputs": [
    {
     "data": {
      "text/plain": [
       "'day nice have there Hello'"
      ]
     },
     "execution_count": 7,
     "metadata": {},
     "output_type": "execute_result"
    }
   ],
   "source": [
    "short_sol2(\"Hello there have  nice day\")"
   ]
  },
  {
   "cell_type": "code",
   "execution_count": 34,
   "metadata": {},
   "outputs": [],
   "source": [
    "def sol(s):\n",
    "    word = []\n",
    "    spaces = [' ']\n",
    "    \n",
    "    if s == \"\":\n",
    "        return\n",
    "    i = 0\n",
    "    while i < len(s):\n",
    "        \n",
    "        word_start = i\n",
    "        \n",
    "        if s[i] not in spaces:\n",
    "            \n",
    "            while i < len(s) and s[i] not in spaces:\n",
    "                \n",
    "                i += 1\n",
    "            word.append(s[word_start:i])\n",
    "        i += 1\n",
    "    i = len(word) - 1\n",
    "    words = []\n",
    "    while i >= 0:\n",
    "        words.append(word[i])\n",
    "        i -= 1\n",
    "    \n",
    "    return \" \".join(words)\n",
    "        "
   ]
  },
  {
   "cell_type": "code",
   "execution_count": 35,
   "metadata": {},
   "outputs": [
    {
     "data": {
      "text/plain": [
       "'hi there Hello'"
      ]
     },
     "execution_count": 35,
     "metadata": {},
     "output_type": "execute_result"
    }
   ],
   "source": [
    "sol(\"   Hello there hi\")"
   ]
  },
  {
   "cell_type": "code",
   "execution_count": null,
   "metadata": {},
   "outputs": [],
   "source": []
  },
  {
   "cell_type": "code",
   "execution_count": null,
   "metadata": {},
   "outputs": [],
   "source": []
  }
 ],
 "metadata": {
  "kernelspec": {
   "display_name": "Python 3",
   "language": "python",
   "name": "python3"
  },
  "language_info": {
   "codemirror_mode": {
    "name": "ipython",
    "version": 3
   },
   "file_extension": ".py",
   "mimetype": "text/x-python",
   "name": "python",
   "nbconvert_exporter": "python",
   "pygments_lexer": "ipython3",
   "version": "3.7.6"
  }
 },
 "nbformat": 4,
 "nbformat_minor": 4
}
